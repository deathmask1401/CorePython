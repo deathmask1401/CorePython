{
  "nbformat": 4,
  "nbformat_minor": 0,
  "metadata": {
    "colab": {
      "provenance": []
    },
    "kernelspec": {
      "name": "python3",
      "display_name": "Python 3"
    },
    "language_info": {
      "name": "python"
    }
  },
  "cells": [
    {
      "cell_type": "code",
      "execution_count": null,
      "metadata": {
        "id": "cUMOpBiZBIqZ",
        "colab": {
          "base_uri": "https://localhost:8080/"
        },
        "outputId": "5bc13c4b-de12-4186-f61d-f0d08f386a5f"
      },
      "outputs": [
        {
          "name": "stdout",
          "output_type": "stream",
          "text": [
            "WELCOME TO FRUIT MARKET\n",
            "1) Manager\n",
            "2) Customer\n",
            "\n",
            "Select your role :  2\n",
            "\n",
            "Customer\n",
            "\n",
            "1)Check the fruit price\n",
            "  2)Check the fruits availability\n",
            "  3)Buy fruits\n",
            "Enter your choice : 1\n",
            "Enter the fruit to be checked Apples\n",
            "The Apples is 40 per kg\n",
            "\n",
            "Enter y to continue and n to exit \n",
            "n\n"
          ]
        }
      ],
      "source": [
        "stock={'Apples':25,'Banana':30,'Oranges':54,'Grapes':35,'Mango':43,'Pear':17,}\n",
        "price={'Apples':40,'Banana':60,'Oranges':80,'Grapes':40,'Mango':120,'Pear':100,}\n",
        "\n",
        "print('WELCOME TO FRUIT MARKET')\n",
        "\n",
        "print('''1) Manager\n",
        "2) Customer\\n''')\n",
        "\n",
        "role=int(input(\"Select your role : \"))\n",
        "if role==1:\n",
        "  print(\"\\nFruit Market Manager \\n\")\n",
        "\n",
        "  print('''1) Add Fruit Stock\n",
        "2) View Fruit Stock\n",
        "3) Update Fruit Stock\\n''')\n",
        "\n",
        "  choice=int(input(\"Enter your choice : \"))\n",
        "  if choice==1:\n",
        "    cont='y'\n",
        "    while cont=='y':\n",
        "      fruit=input(\"Enter the fruit to be added \")\n",
        "      items=int(input(\"Enter the fruit kgs to be added in the stock \"))\n",
        "      stock[fruit]=items\n",
        "      print(stock)\n",
        "      cont=input(\"\\nEnter y to continue and n to exit \\n\")\n",
        "      if cont=='n':\n",
        "        break\n",
        "  elif choice==2:\n",
        "    print(stock)\n",
        "  elif choice==3:\n",
        "    cont='y'\n",
        "    while cont=='y':\n",
        "      fruit=input(\"Enter the fruit to be added \")\n",
        "      items=int(input(\"Enter the fruit kgs to be added in the stock \"))\n",
        "      stock[fruit]=stock[fruit]+items\n",
        "      print(stock)\n",
        "      cont=input(\"\\nEnter y to continue and n to exit \\n\")\n",
        "      if cont=='n':\n",
        "        break\n",
        "\n",
        "if role==2:\n",
        "  print('\\nCustomer\\n')\n",
        "  print(''' 1)Check the fruit price\n",
        "2)Check the fruits availability\n",
        "3)Buy fruits''')\n",
        "\n",
        "  choice=int(input(\"Enter your choice : \"))\n",
        "  if choice==1:\n",
        "    cont='y'\n",
        "    while cont=='y':\n",
        "      fruit=input(\"Enter the fruit to be checked \")\n",
        "\n",
        "      print(f'The {fruit} is {price[fruit]} per kg')\n",
        "      cont=input(\"\\nEnter y to continue and n to exit \\n\")\n",
        "      if cont=='n':\n",
        "        break\n",
        "  elif choice==2:\n",
        "    cont='y'\n",
        "    while cont=='y':\n",
        "      fruit=input(\"Enter the fruit to be checked \")\n",
        "\n",
        "      print(f'The {fruit} is {stock[fruit]}kgs available')\n",
        "      cont=input(\"\\nEnter y to continue and n to exit \\n\")\n",
        "      if cont=='n':\n",
        "        break\n",
        "  elif choice==3:\n",
        "    cont='y'\n",
        "    while cont=='y':\n",
        "      fruit=input(\"Enter the fruit to be bought \")\n",
        "      items=int(input(\"Enter the fruit kgs to be bought \"))\n",
        "      stock[fruit]=stock[fruit]-items\n",
        "      print(stock)\n",
        "      cont=input(\"\\nEnter y to continue and n to exit \\n\")\n",
        "      if cont=='n':\n",
        "        break\n",
        "\n",
        "\n",
        "\n",
        "\n"
      ]
    },
    {
      "cell_type": "code",
      "source": [],
      "metadata": {
        "id": "A5l8ILv-Opie"
      },
      "execution_count": null,
      "outputs": []
    }
  ]
}
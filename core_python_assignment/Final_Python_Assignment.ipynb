{
  "nbformat": 4,
  "nbformat_minor": 0,
  "metadata": {
    "colab": {
      "provenance": []
    },
    "kernelspec": {
      "name": "python3",
      "display_name": "Python 3"
    },
    "language_info": {
      "name": "python"
    }
  },
  "cells": [
    {
      "cell_type": "markdown",
      "source": [
        "# String functions\n"
      ],
      "metadata": {
        "id": "5wmo4Tz2PaZ5"
      }
    },
    {
      "cell_type": "code",
      "execution_count": null,
      "metadata": {
        "id": "0uRBTuuwPVrU",
        "colab": {
          "base_uri": "https://localhost:8080/"
        },
        "outputId": "024f1cdc-60e2-414c-e12c-412be6615a6f"
      },
      "outputs": [
        {
          "output_type": "stream",
          "name": "stdout",
          "text": [
            "Enter the string : tenz\n",
            "{'t': 1, 'e': 1, 'n': 1, 'z': 1}\n"
          ]
        }
      ],
      "source": [
        "#count the frequency of characters in a string\n",
        "d={}\n",
        "string1=input(\"Enter the string : \")\n",
        "for i in string1:\n",
        "  d[i] = d.get(i, 0) + 1\n",
        "print(d)\n"
      ]
    },
    {
      "cell_type": "code",
      "source": [
        "#to replace all occurances with $ except the first one\n",
        "\n",
        "def change_char(str1):\n",
        "    char = str1[0]\n",
        "\n",
        "    str1 = str1.replace(char, '$')\n",
        "\n",
        "    str1 = char + str1[1:]\n",
        "\n",
        "    return str1\n",
        "\n",
        "print(change_char('restart'))\n"
      ],
      "metadata": {
        "id": "JhEeGHKo3VjT",
        "colab": {
          "base_uri": "https://localhost:8080/"
        },
        "outputId": "8a5a4508-0ed8-4132-fbc1-fbdc136fd0f0"
      },
      "execution_count": null,
      "outputs": [
        {
          "output_type": "stream",
          "name": "stdout",
          "text": [
            "resta$t\n"
          ]
        }
      ]
    },
    {
      "cell_type": "code",
      "source": [
        "#write a python function that takes a list of words and returns the longest one\n",
        "def longest(word_list):\n",
        "\n",
        "    longest_word = word_list[0]\n",
        "\n",
        "    for word in word_list:\n",
        "        if len(word) > len(longest_word):\n",
        "            longest_word = word\n",
        "\n",
        "    return longest_word\n",
        "\n",
        "\n",
        "words = [\"apple\", \"banana\", \"kiwi\", \"strawberry\", \"blueberry\"]\n",
        "result = longest(words)\n",
        "\n",
        "print(\"Longest word:\", result)\n"
      ],
      "metadata": {
        "colab": {
          "base_uri": "https://localhost:8080/"
        },
        "id": "wS-NW92B33Ej",
        "outputId": "839dc74c-81a3-4e53-f715-08caec2eb0fb"
      },
      "execution_count": null,
      "outputs": [
        {
          "output_type": "stream",
          "name": "stdout",
          "text": [
            "Longest word: strawberry\n"
          ]
        }
      ]
    },
    {
      "cell_type": "code",
      "source": [
        "#count occurance of each word\n",
        "\n",
        "def word_count(str):\n",
        "\n",
        "    counts = dict()\n",
        "\n",
        "    words = str.split()\n",
        "\n",
        "    for word in words:\n",
        "        if word in counts:\n",
        "            counts[word] += 1\n",
        "        else:\n",
        "            counts[word] = 1\n",
        "\n",
        "    return counts\n",
        "\n",
        "print( word_count('the quick brown fox jumps over the lazy dog.'))\n"
      ],
      "metadata": {
        "id": "aesEgiXq328q",
        "colab": {
          "base_uri": "https://localhost:8080/"
        },
        "outputId": "2d6d0c2a-be9a-411b-e364-da138668c40a"
      },
      "execution_count": null,
      "outputs": [
        {
          "output_type": "stream",
          "name": "stdout",
          "text": [
            "{'the': 2, 'quick': 1, 'brown': 1, 'fox': 1, 'jumps': 1, 'over': 1, 'lazy': 1, 'dog.': 1}\n"
          ]
        }
      ]
    },
    {
      "cell_type": "code",
      "source": [
        "#Write a Python function to convert a given string to all uppercase if it contains at least 2 uppercase characters in the first 4 characters.\n",
        "def to_uppercase(str1):\n",
        "\n",
        "    num_upper = 0\n",
        "\n",
        "\n",
        "    for letter in str1[:4]:\n",
        "        if letter.upper() == letter:\n",
        "            num_upper += 1\n",
        "\n",
        "    if num_upper >= 2:\n",
        "        return str1.upper()\n",
        "\n",
        "    return str1\n",
        "to_uppercase(\"TEnz is god\")"
      ],
      "metadata": {
        "colab": {
          "base_uri": "https://localhost:8080/",
          "height": 36
        },
        "id": "gtG5CIAA320i",
        "outputId": "d26d0b76-f02a-42c3-f4a0-2b98bf5991ef"
      },
      "execution_count": null,
      "outputs": [
        {
          "output_type": "execute_result",
          "data": {
            "text/plain": [
              "'TENZ IS GOD'"
            ],
            "application/vnd.google.colaboratory.intrinsic+json": {
              "type": "string"
            }
          },
          "metadata": {},
          "execution_count": 9
        }
      ]
    },
    {
      "cell_type": "code",
      "source": [
        "#to count the vowels of a given string\n",
        "\n",
        "from collections import Counter\n",
        "\n",
        "def count_and_display_vowels(string):\n",
        "\tvowels = 'aeiouAEIOU'\n",
        "\tvowels_list = filter(lambda c: c in vowels, string)\n",
        "\tcount = Counter(vowels_list)\n",
        "\treturn count\n",
        "\n",
        "string = \"TENZ IS USING OPERATOR\"\n",
        "print(count_and_display_vowels(string))\n"
      ],
      "metadata": {
        "colab": {
          "base_uri": "https://localhost:8080/"
        },
        "id": "sTU8pu0_30HS",
        "outputId": "ee6c8ff6-d772-4694-9ca2-d1ef50c84571"
      },
      "execution_count": null,
      "outputs": [
        {
          "output_type": "stream",
          "name": "stdout",
          "text": [
            "Counter({'E': 2, 'I': 2, 'O': 2, 'U': 1, 'A': 1})\n"
          ]
        }
      ]
    },
    {
      "cell_type": "markdown",
      "source": [
        "#List functions\n"
      ],
      "metadata": {
        "id": "h0tUxSNmPZ7P"
      }
    },
    {
      "cell_type": "code",
      "source": [
        "#1 list empty or not\n",
        "\n",
        "def emp(lst):\n",
        "  if len(lst)==0:\n",
        "    print(\"List is empty\")\n",
        "  else:\n",
        "    print(\"List is not empty\")\n",
        "\n",
        "emp([4,5])\n",
        "emp([])"
      ],
      "metadata": {
        "colab": {
          "base_uri": "https://localhost:8080/"
        },
        "id": "62ByCf3wQvru",
        "outputId": "b4e6e489-82b5-45de-b063-0c704209ec7f"
      },
      "execution_count": null,
      "outputs": [
        {
          "output_type": "stream",
          "name": "stdout",
          "text": [
            "List is not empty\n",
            "List is empty\n"
          ]
        }
      ]
    },
    {
      "cell_type": "code",
      "source": [
        "#2 remove duplicates from a list\n",
        "a = [10, 20, 30, 20, 10, 50, 60, 40, 80, 50, 40]\n",
        "\n",
        "dup_items = set()\n",
        "uniq_items = []\n",
        "\n",
        "for x in a:\n",
        "    if x not in dup_items:\n",
        "        uniq_items.append(x)\n",
        "        dup_items.add(x)\n",
        "\n",
        "print(dup_items)"
      ],
      "metadata": {
        "colab": {
          "base_uri": "https://localhost:8080/"
        },
        "id": "sCPlXHy5Q0N4",
        "outputId": "fde7a367-10bd-4fde-f126-0eb469c5db29"
      },
      "execution_count": null,
      "outputs": [
        {
          "output_type": "stream",
          "name": "stdout",
          "text": [
            "{40, 10, 80, 50, 20, 60, 30}\n"
          ]
        }
      ]
    },
    {
      "cell_type": "code",
      "source": [
        "#3 to check if two lists have a common member using function\n",
        "\n",
        "def comm(lst1,lst2):\n",
        "  for i in range(0,len(lst1)):\n",
        "    if lst1[i] in lst2:\n",
        "      print(\"There is a common member\")\n",
        "      break\n",
        "  for j in range(0,len(lst2)):\n",
        "    if lst2[2] in lst1:\n",
        "      print(\"There is a common member\")\n",
        "      break\n",
        "\n",
        "comm([1,2,3,4],[2,5,6])\n",
        "comm([1,2,3],[4,5,6])\n"
      ],
      "metadata": {
        "colab": {
          "base_uri": "https://localhost:8080/"
        },
        "id": "dg4DTlVfQ2ZG",
        "outputId": "f40cc118-81ba-4367-b579-b0c858a6c852"
      },
      "execution_count": null,
      "outputs": [
        {
          "output_type": "stream",
          "name": "stdout",
          "text": [
            "There is a common member\n"
          ]
        }
      ]
    },
    {
      "cell_type": "code",
      "source": [
        "#4 difference between two lists\n",
        "a=[1,2,3,42,123,32]\n",
        "b=[2,4213,13213,323]\n",
        "print(set(a)-set(b))"
      ],
      "metadata": {
        "id": "WWIy6iMRQ4Ju",
        "colab": {
          "base_uri": "https://localhost:8080/"
        },
        "outputId": "c0649df7-7764-4590-d760-2e6a973d20ad"
      },
      "execution_count": null,
      "outputs": [
        {
          "output_type": "stream",
          "name": "stdout",
          "text": [
            "{32, 1, 3, 42, 123}\n"
          ]
        }
      ]
    },
    {
      "cell_type": "code",
      "source": [
        "#5 program to find the smallest number in the list\n",
        "def small(lst):\n",
        "  lst.sort()\n",
        "  print(f\"{lst[1]} is the second smallest number in the list\")\n",
        "\n",
        "small([1,2,34,323,243,23,2,321])"
      ],
      "metadata": {
        "colab": {
          "base_uri": "https://localhost:8080/"
        },
        "id": "PbnMlauVRHpA",
        "outputId": "853b63a4-4908-4eda-c971-004536d24d9e"
      },
      "execution_count": null,
      "outputs": [
        {
          "output_type": "stream",
          "name": "stdout",
          "text": [
            "2 is the second smallest number in the list\n"
          ]
        }
      ]
    },
    {
      "cell_type": "code",
      "source": [
        "#6 program to find second largest\n",
        "def large(lst):\n",
        "  lst.sort(reverse=True)\n",
        "  print(f\"{lst[1]} is the second largest number in the list\")\n",
        "\n",
        "large([1,2,34,323,243,23,2,321])"
      ],
      "metadata": {
        "colab": {
          "base_uri": "https://localhost:8080/"
        },
        "id": "BtDnwRfiRJ-P",
        "outputId": "e486baa8-9155-4207-ff97-1a8ea1affa43"
      },
      "execution_count": null,
      "outputs": [
        {
          "output_type": "stream",
          "name": "stdout",
          "text": [
            "321 is the second largest number in the list\n"
          ]
        }
      ]
    },
    {
      "cell_type": "code",
      "source": [
        "#7 frequency of elements\n",
        "\n",
        "import collections\n",
        "\n",
        "my_list = [10, 10, 10, 10, 20, 20, 20, 20, 40, 40, 50, 50, 30]\n",
        "\n",
        "print(\"Original List : \", my_list)\n",
        "ctr = collections.Counter(my_list)\n",
        "print(\"Frequency of the elements in the List : \", ctr)"
      ],
      "metadata": {
        "colab": {
          "base_uri": "https://localhost:8080/"
        },
        "id": "M1SJEheURLzP",
        "outputId": "7b9e2163-903d-4c31-d32e-5fee34dde8e7"
      },
      "execution_count": null,
      "outputs": [
        {
          "output_type": "stream",
          "name": "stdout",
          "text": [
            "Original List :  [10, 10, 10, 10, 20, 20, 20, 20, 40, 40, 50, 50, 30]\n",
            "Frequency of the elements in the List :  Counter({10: 4, 20: 4, 40: 2, 50: 2, 30: 1})\n"
          ]
        }
      ]
    },
    {
      "cell_type": "code",
      "source": [
        "#8 convert list of integers into single integer\n",
        "list1 = [11,22,33]\n",
        "def conv(lst):\n",
        "  res = int(\"\".join(map(str, lst)))\n",
        "  return res\n",
        "conv(list1)\n",
        "\n",
        "\n"
      ],
      "metadata": {
        "colab": {
          "base_uri": "https://localhost:8080/"
        },
        "id": "6ZpseQbkRNW_",
        "outputId": "5633f6bc-6fc1-4ba2-df39-e5e0eca100f1"
      },
      "execution_count": null,
      "outputs": [
        {
          "output_type": "execute_result",
          "data": {
            "text/plain": [
              "112233"
            ]
          },
          "metadata": {},
          "execution_count": 10
        }
      ]
    },
    {
      "cell_type": "code",
      "source": [
        "#9 compute similarities between two lists\n",
        "\n",
        "from collections import Counter\n",
        "\n",
        "color1 = [\"red\", \"orange\", \"green\", \"blue\", \"white\"]\n",
        "color2 = [\"black\", \"yellow\", \"green\", \"blue\"]\n",
        "counter1 = Counter(color1)\n",
        "counter2 = Counter(color2)\n",
        "print(\"Color1-Color2: \", list(counter1 - counter2))\n",
        "print(\"Color2-Color1: \", list(counter2 - counter1))\n"
      ],
      "metadata": {
        "id": "EscocPWUR2z6",
        "colab": {
          "base_uri": "https://localhost:8080/"
        },
        "outputId": "3f6a8dd5-10de-4ade-c54d-c33155630b38"
      },
      "execution_count": null,
      "outputs": [
        {
          "output_type": "stream",
          "name": "stdout",
          "text": [
            "Color1-Color2:  ['red', 'orange', 'white']\n",
            "Color2-Color1:  ['black', 'yellow']\n"
          ]
        }
      ]
    },
    {
      "cell_type": "code",
      "source": [
        "#10 check if all dicts in a list are empty or not\n",
        "lst=[{},{},{}]\n",
        "def empty(lst):\n",
        "  flag=True\n",
        "  for i in lst:\n",
        "    if len(i)!=0:\n",
        "      print(\"Dicts are not empty\")\n",
        "      break\n",
        "      flag=False\n",
        "  if flag==True:\n",
        "    print(\"All the dicts are empty\")\n",
        "empty(lst)\n"
      ],
      "metadata": {
        "colab": {
          "base_uri": "https://localhost:8080/"
        },
        "id": "JWkdrXDHUpjc",
        "outputId": "93e2e4e5-aa57-4e5f-fc04-39c328213a3a"
      },
      "execution_count": null,
      "outputs": [
        {
          "output_type": "stream",
          "name": "stdout",
          "text": [
            "All the dicts are empty\n"
          ]
        }
      ]
    },
    {
      "cell_type": "markdown",
      "source": [
        "#Dictionary functions\n"
      ],
      "metadata": {
        "id": "cnZE09R3WcpZ"
      }
    },
    {
      "cell_type": "code",
      "source": [
        "#1 print numbers and their squares\n",
        "\n",
        "x={}\n",
        "n=int(input(\"Enter the number of terms : \"))\n",
        "for i in range(0,n+1):\n",
        "  x[i]=i*i\n",
        "  i+=1\n",
        "print(x)"
      ],
      "metadata": {
        "colab": {
          "base_uri": "https://localhost:8080/"
        },
        "id": "vf-qXCgwVy_R",
        "outputId": "dcb1fd2b-6fba-4e70-da5c-bd66875b794f"
      },
      "execution_count": null,
      "outputs": [
        {
          "output_type": "stream",
          "name": "stdout",
          "text": [
            "Enter the number of terms : 5\n",
            "{0: 0, 1: 1, 2: 4, 3: 9, 4: 16, 5: 25}\n"
          ]
        }
      ]
    },
    {
      "cell_type": "code",
      "source": [
        "#2 adding values for common keys\n",
        "d1 = {'a': 100, 'b': 200, 'c':300,'d' : 500,'f':900}\n",
        "d2 = {'a': 300, 'b': 500, 'c':810, 'e' : 310, 'f':700}\n",
        "d3={}\n",
        "for i, j in d1.items():\n",
        "  for x, y in d2.items():\n",
        "    if i == x:\n",
        "      d3[i]=(j+y)\n",
        "print(d3)"
      ],
      "metadata": {
        "colab": {
          "base_uri": "https://localhost:8080/"
        },
        "id": "3xLQ-MH-Wu3S",
        "outputId": "01b65802-50d0-4848-b46e-b8439811488f"
      },
      "execution_count": null,
      "outputs": [
        {
          "output_type": "stream",
          "name": "stdout",
          "text": [
            "{'a': 400, 'b': 700, 'c': 1110, 'f': 1600}\n"
          ]
        }
      ]
    },
    {
      "cell_type": "code",
      "source": [
        "#3 print all the unique values of a dictionary\n",
        "dict1 = {\"V\":\"S001\",\"V\": \"S002\", \"VI\": \"S001\", \"VI\": \"S005\", \"VII\":\"S005\",\"V\":\"S009\",\"VIII\":\"S007\"}\n",
        "for i in dict1.items():\n",
        "  print(i)\n",
        "\n",
        "\n"
      ],
      "metadata": {
        "colab": {
          "base_uri": "https://localhost:8080/"
        },
        "id": "LiT2SwcEW6Xw",
        "outputId": "afd86e9c-f53f-41fa-e87b-121aee45c736"
      },
      "execution_count": null,
      "outputs": [
        {
          "output_type": "stream",
          "name": "stdout",
          "text": [
            "('V', 'S009')\n",
            "('VI', 'S005')\n",
            "('VII', 'S005')\n",
            "('VIII', 'S007')\n"
          ]
        }
      ]
    },
    {
      "cell_type": "code",
      "source": [
        "#4 combinations of all letters\n",
        "result = ''\n",
        "sample = {'1':['a','b'], '2':['c','d']}\n",
        "list_1 = sample['1']\n",
        "list_2 = sample['2']\n",
        "for i in list_1:\n",
        "  for j in list_2:\n",
        "    result = i + j\n",
        "    print(result)"
      ],
      "metadata": {
        "colab": {
          "base_uri": "https://localhost:8080/"
        },
        "id": "gDmLbMTGXQxI",
        "outputId": "4a99e2b4-ed47-44ad-fa3d-142de1650b75"
      },
      "execution_count": null,
      "outputs": [
        {
          "output_type": "stream",
          "name": "stdout",
          "text": [
            "ac\n",
            "ad\n",
            "bc\n",
            "bd\n"
          ]
        }
      ]
    },
    {
      "cell_type": "code",
      "source": [
        "#5misprint"
      ],
      "metadata": {
        "id": "VgPITUlVZpci"
      },
      "execution_count": null,
      "outputs": []
    },
    {
      "cell_type": "code",
      "source": [
        "#6 count the values for keys\n",
        "student = [{'id': 1, 'success': True, 'name': 'Lary'},\n",
        " {'id': 2, 'success': False, 'name': 'Rabi'},\n",
        " {'id': 3, 'success': True, 'name': 'Alex'}]\n",
        "print(sum(d['success'] for d in student))"
      ],
      "metadata": {
        "colab": {
          "base_uri": "https://localhost:8080/"
        },
        "id": "ynEUz9BPZ6aJ",
        "outputId": "25ef1d5a-f530-45c5-9a85-d511a9794f86"
      },
      "execution_count": null,
      "outputs": [
        {
          "output_type": "stream",
          "name": "stdout",
          "text": [
            "2\n"
          ]
        }
      ]
    },
    {
      "cell_type": "code",
      "source": [
        "#7 convert list into nested dictionaries\n",
        "color_name = [\"Black\", \"Red\", \"Maroon\", \"Yellow\"]\n",
        "\n",
        "color_code = [\"#000000\", \"#FF0000\", \"#800000\", \"#FFFF00\"]\n",
        "\n",
        "print([{'color_name': f, 'color_code': c} for f, c in zip(color_name, color_code)])"
      ],
      "metadata": {
        "id": "9nyAq3GJadAJ",
        "colab": {
          "base_uri": "https://localhost:8080/"
        },
        "outputId": "cefff34a-3e0f-4692-842f-026d1540f51e"
      },
      "execution_count": null,
      "outputs": [
        {
          "output_type": "stream",
          "name": "stdout",
          "text": [
            "[{'color_name': 'Black', 'color_code': '#000000'}, {'color_name': 'Red', 'color_code': '#FF0000'}, {'color_name': 'Maroon', 'color_code': '#800000'}, {'color_name': 'Yellow', 'color_code': '#FFFF00'}]\n"
          ]
        }
      ]
    },
    {
      "cell_type": "code",
      "source": [
        "#8 sort a  list alphabetically in a dictionary\n",
        "num = {'n1': [2, 3, 1], 'n2': [5, 1, 2], 'n3': [3, 2, 4]}\n",
        "\n",
        "sorted_dict = {x: sorted(y) for x, y in num.items()}\n",
        "\n",
        "print(sorted_dict)"
      ],
      "metadata": {
        "id": "5w7aaMkzahqg",
        "colab": {
          "base_uri": "https://localhost:8080/"
        },
        "outputId": "51bd7110-d88b-4d02-f0cb-f1a15c239002"
      },
      "execution_count": null,
      "outputs": [
        {
          "output_type": "stream",
          "name": "stdout",
          "text": [
            "{'n1': [1, 2, 3], 'n2': [1, 2, 5], 'n3': [2, 3, 4]}\n"
          ]
        }
      ]
    },
    {
      "cell_type": "code",
      "source": [
        "#9\n",
        "from collections import Counter\n",
        "x = Counter({'Math':81,'Physics':80,'Chemistry':87})\n",
        "x.most_common()"
      ],
      "metadata": {
        "colab": {
          "base_uri": "https://localhost:8080/"
        },
        "id": "tCHlK9ws7ufA",
        "outputId": "e25975eb-0e6b-4db3-b023-1b8574bd0f8f"
      },
      "execution_count": null,
      "outputs": [
        {
          "output_type": "execute_result",
          "data": {
            "text/plain": [
              "[('Chemistry', 87), ('Math', 81), ('Physics', 80)]"
            ]
          },
          "metadata": {},
          "execution_count": 50
        }
      ]
    },
    {
      "cell_type": "code",
      "source": [
        "#10\n"
      ],
      "metadata": {
        "id": "c_xm6WHo7usp"
      },
      "execution_count": null,
      "outputs": []
    },
    {
      "cell_type": "markdown",
      "source": [
        "#TUPLES"
      ],
      "metadata": {
        "id": "G36hmGS07x-g"
      }
    },
    {
      "cell_type": "code",
      "source": [
        "#1\n",
        "tuple1=(\"tenz\",1,0.43,True)\n",
        "tuple1"
      ],
      "metadata": {
        "colab": {
          "base_uri": "https://localhost:8080/"
        },
        "id": "Cwg2HTyg7u5f",
        "outputId": "f64897db-1647-44f9-8ee4-663f1da1c97b"
      },
      "execution_count": null,
      "outputs": [
        {
          "output_type": "execute_result",
          "data": {
            "text/plain": [
              "('tenz', 1, 0.43, True)"
            ]
          },
          "metadata": {},
          "execution_count": 51
        }
      ]
    },
    {
      "cell_type": "code",
      "source": [
        "#2\n",
        "tuple1=(\"tenz\",1,0.43,True)\n",
        "lst=list(tuple1)\n",
        "lst.append(False)\n",
        "tuple2=tuple(lst)\n",
        "tuple2"
      ],
      "metadata": {
        "colab": {
          "base_uri": "https://localhost:8080/"
        },
        "id": "7IjfIUsp71q4",
        "outputId": "266fc3d5-faa9-4c3d-d1d9-812be3175b8c"
      },
      "execution_count": null,
      "outputs": [
        {
          "output_type": "execute_result",
          "data": {
            "text/plain": [
              "('tenz', 1, 0.43, True, False)"
            ]
          },
          "metadata": {},
          "execution_count": 52
        }
      ]
    },
    {
      "cell_type": "code",
      "source": [
        "#3\n",
        "tup=(\"1\",\"2\",\"3\",\"......\",\"go\")\n",
        "string=\"\"\n",
        "for i in tup:\n",
        "  string=string+i\n",
        "print(string)"
      ],
      "metadata": {
        "colab": {
          "base_uri": "https://localhost:8080/"
        },
        "id": "IYG7DG0U72Rf",
        "outputId": "13038fe9-f383-451f-ac82-209fe93eecc3"
      },
      "execution_count": null,
      "outputs": [
        {
          "output_type": "stream",
          "name": "stdout",
          "text": [
            "123......go\n"
          ]
        }
      ]
    },
    {
      "cell_type": "code",
      "source": [
        "#4\n",
        "tup=(1,3,4,32,1,1,1,34,3)\n",
        "for i in tup:\n",
        "    if tup.count(i) > 1:\n",
        "      print(i)\n",
        "\n"
      ],
      "metadata": {
        "colab": {
          "base_uri": "https://localhost:8080/"
        },
        "id": "x2X6zl2R73EP",
        "outputId": "768260a0-e4e7-4f19-cdf2-1bf597667cec"
      },
      "execution_count": null,
      "outputs": [
        {
          "output_type": "stream",
          "name": "stdout",
          "text": [
            "1\n",
            "3\n",
            "1\n",
            "1\n",
            "1\n",
            "3\n"
          ]
        }
      ]
    },
    {
      "cell_type": "code",
      "source": [
        "#5\n",
        "tup=(1,3,4,32,1,1,1,34,3)\n",
        "len(tup)"
      ],
      "metadata": {
        "colab": {
          "base_uri": "https://localhost:8080/"
        },
        "id": "94cAqGJb73ln",
        "outputId": "c5ac752b-bfda-47d8-8d9b-adacfc39af25"
      },
      "execution_count": null,
      "outputs": [
        {
          "output_type": "execute_result",
          "data": {
            "text/plain": [
              "9"
            ]
          },
          "metadata": {},
          "execution_count": 62
        }
      ]
    },
    {
      "cell_type": "code",
      "source": [
        "#6\n",
        "tuplex = ((2, \"w\"), (3, \"r\"))\n",
        "result_dict = dict((y, x) for x, y in tuplex)\n",
        "\n",
        "print(result_dict)"
      ],
      "metadata": {
        "id": "rZ3zOglZ74mf",
        "colab": {
          "base_uri": "https://localhost:8080/"
        },
        "outputId": "1d509703-b85c-4d96-dfe9-0304cf9f775d"
      },
      "execution_count": null,
      "outputs": [
        {
          "output_type": "stream",
          "name": "stdout",
          "text": [
            "{'w': 2, 'r': 3}\n"
          ]
        }
      ]
    },
    {
      "cell_type": "code",
      "source": [
        "#7\n",
        "\n",
        "l = [(10, 20, 40), (40, 50, 60), (70, 80, 90)]\n",
        "\n",
        "\n",
        "print([t[:-1] + (100,) for t in l])\n"
      ],
      "metadata": {
        "colab": {
          "base_uri": "https://localhost:8080/"
        },
        "id": "MW1rHPYD75D_",
        "outputId": "0ae335c8-c59b-4f52-ed50-a86e64ee78e5"
      },
      "execution_count": null,
      "outputs": [
        {
          "output_type": "stream",
          "name": "stdout",
          "text": [
            "[(10, 20, 100), (40, 50, 100), (70, 80, 100)]\n"
          ]
        }
      ]
    },
    {
      "cell_type": "code",
      "source": [
        "#8\n",
        "\n",
        "l = [(10, 20, 40), (40, 50, 60), (70, 80, 90)]\n",
        "\n",
        "\n",
        "print([t[:-1] for t in l])"
      ],
      "metadata": {
        "colab": {
          "base_uri": "https://localhost:8080/"
        },
        "id": "usrW90-Z75og",
        "outputId": "600fbeb2-3afb-41d4-cf2e-f33cce51dc06"
      },
      "execution_count": null,
      "outputs": [
        {
          "output_type": "stream",
          "name": "stdout",
          "text": [
            "[(10, 20), (40, 50), (70, 80)]\n"
          ]
        }
      ]
    },
    {
      "cell_type": "code",
      "source": [
        "#9\n",
        "lst = [('item1', '12.20'), ('item2', '15.10'), ('item3', '24.5')]\n",
        "\n",
        "sorted_price = sorted(lst, key=lambda x: float(x[1]), reverse=True)\n",
        "\n",
        "\n",
        "print(sorted_price)"
      ],
      "metadata": {
        "colab": {
          "base_uri": "https://localhost:8080/"
        },
        "id": "YVLNbsCt77pv",
        "outputId": "c208b6a4-1524-4578-bde1-41dfd6bf48d3"
      },
      "execution_count": null,
      "outputs": [
        {
          "output_type": "stream",
          "name": "stdout",
          "text": [
            "[('item3', '24.5'), ('item2', '15.10'), ('item1', '12.20')]\n"
          ]
        }
      ]
    },
    {
      "cell_type": "code",
      "source": [
        "#10\n",
        "l = [4, 5, 6, 10, (1, 2, 3), 11, 2, 4]\n",
        "counter = 0\n",
        "for num in l:\n",
        "  if isinstance(num, tuple):\n",
        "    break\n",
        "  counter = counter + 1\n",
        "print(counter)"
      ],
      "metadata": {
        "colab": {
          "base_uri": "https://localhost:8080/"
        },
        "id": "y9s2wrZn78O3",
        "outputId": "30a46a0e-f1d7-48c5-eaa6-70cd1a8fb37d"
      },
      "execution_count": null,
      "outputs": [
        {
          "output_type": "stream",
          "name": "stdout",
          "text": [
            "4\n"
          ]
        }
      ]
    },
    {
      "cell_type": "markdown",
      "source": [
        "#SETs"
      ],
      "metadata": {
        "id": "tvjN5ZKC79pC"
      }
    },
    {
      "cell_type": "code",
      "source": [
        "#1\n",
        "set1={1,5,34}\n",
        "\n",
        "for i in set1:\n",
        "  print(i)"
      ],
      "metadata": {
        "colab": {
          "base_uri": "https://localhost:8080/"
        },
        "id": "n_lKgv_p78wv",
        "outputId": "e42b0f0c-805d-465a-d99c-594f0db31f2f"
      },
      "execution_count": null,
      "outputs": [
        {
          "output_type": "stream",
          "name": "stdout",
          "text": [
            "1\n",
            "34\n",
            "5\n"
          ]
        }
      ]
    },
    {
      "cell_type": "code",
      "source": [
        "#2\n",
        "set1={1,5,34}\n",
        "set1.add(321)\n",
        "set1"
      ],
      "metadata": {
        "colab": {
          "base_uri": "https://localhost:8080/"
        },
        "id": "daEHR26L8Kmx",
        "outputId": "21fabbd5-f148-4796-9cf5-1b773463be13"
      },
      "execution_count": null,
      "outputs": [
        {
          "output_type": "execute_result",
          "data": {
            "text/plain": [
              "{1, 5, 34, 321}"
            ]
          },
          "metadata": {},
          "execution_count": 70
        }
      ]
    },
    {
      "cell_type": "code",
      "source": [
        "#3\n",
        "set1={1,5,34}\n",
        "set1.remove(5)\n",
        "set1"
      ],
      "metadata": {
        "colab": {
          "base_uri": "https://localhost:8080/"
        },
        "id": "0Tn8RKYC8LI_",
        "outputId": "e07782d2-9690-4162-b9c3-d6124d5f0b5b"
      },
      "execution_count": null,
      "outputs": [
        {
          "output_type": "execute_result",
          "data": {
            "text/plain": [
              "{1, 34}"
            ]
          },
          "metadata": {},
          "execution_count": 73
        }
      ]
    },
    {
      "cell_type": "code",
      "source": [
        "#4\n",
        "myset1 = {12,90,43,56,\"Hello\"}\n",
        "print(\"Set: \",myset1)\n",
        "\n",
        "removing_item=12\n",
        "\n",
        "if removing_item in myset1:\n",
        "  myset1.remove(removing_item)\n",
        "  print(removing_item,\"exists in the set and is removed\")\n",
        "  print(\"Final Set: \",myset1)\n",
        "else:\n",
        "  print(removing_item,\"doesn't exists in the set\")"
      ],
      "metadata": {
        "id": "Wcm5eeBH8Lg_",
        "colab": {
          "base_uri": "https://localhost:8080/"
        },
        "outputId": "6ab49bf7-34ef-40ec-b65a-8f98ba459292"
      },
      "execution_count": null,
      "outputs": [
        {
          "output_type": "stream",
          "name": "stdout",
          "text": [
            "Set:  {'Hello', 56, 90, 43, 12}\n",
            "12 exists in the set and is removed\n",
            "Final Set:  {'Hello', 56, 90, 43}\n"
          ]
        }
      ]
    },
    {
      "cell_type": "code",
      "source": [
        "#5\n",
        "s1={1,2,34,45}\n",
        "s2={1,34,43}\n",
        "s3=s1.intersection(s2)\n",
        "s3"
      ],
      "metadata": {
        "colab": {
          "base_uri": "https://localhost:8080/"
        },
        "id": "Mm4od92b8MSP",
        "outputId": "92a612ef-2249-422d-cf2c-f749e272ca8d"
      },
      "execution_count": null,
      "outputs": [
        {
          "output_type": "execute_result",
          "data": {
            "text/plain": [
              "{1, 34}"
            ]
          },
          "metadata": {},
          "execution_count": 74
        }
      ]
    },
    {
      "cell_type": "code",
      "source": [
        "#6\n",
        "s1={1,2,34,45}\n",
        "s2={1,34,43}\n",
        "s3=s1.symmetric_difference(s2)\n",
        "s3"
      ],
      "metadata": {
        "colab": {
          "base_uri": "https://localhost:8080/"
        },
        "id": "inQMA2G08Plo",
        "outputId": "abb139ab-0840-4813-e2b6-36389f7a83f7"
      },
      "execution_count": null,
      "outputs": [
        {
          "output_type": "execute_result",
          "data": {
            "text/plain": [
              "{2, 43, 45}"
            ]
          },
          "metadata": {},
          "execution_count": 75
        }
      ]
    },
    {
      "cell_type": "code",
      "source": [
        "#7\n",
        "s1={1,2,34,45}\n",
        "print(max(s1))\n",
        "print(min(s1))"
      ],
      "metadata": {
        "colab": {
          "base_uri": "https://localhost:8080/"
        },
        "id": "2LntKdKW8QQo",
        "outputId": "47227154-3c2d-47bb-dedf-56f4f805aadc"
      },
      "execution_count": null,
      "outputs": [
        {
          "output_type": "stream",
          "name": "stdout",
          "text": [
            "45\n",
            "1\n"
          ]
        }
      ]
    },
    {
      "cell_type": "code",
      "source": [
        "#8\n",
        "s1={1,2,34,45}\n",
        "len(s1)"
      ],
      "metadata": {
        "colab": {
          "base_uri": "https://localhost:8080/"
        },
        "id": "_-_kaBuQ8Quw",
        "outputId": "8addd6b6-bd40-4f6e-cd1f-2a24c7eee579"
      },
      "execution_count": null,
      "outputs": [
        {
          "output_type": "execute_result",
          "data": {
            "text/plain": [
              "4"
            ]
          },
          "metadata": {},
          "execution_count": 77
        }
      ]
    },
    {
      "cell_type": "markdown",
      "source": [
        "#LOOPS and CONDITIONAL STATEMENTS"
      ],
      "metadata": {
        "id": "u2ZDpJZr8R9Q"
      }
    },
    {
      "cell_type": "code",
      "source": [
        "#1\n",
        "lst=[1,2,34,5,332142,232,2]\n",
        "odd,even=0,0\n",
        "for i in lst:\n",
        "  if i%2==0:\n",
        "    even+=1\n",
        "  else:\n",
        "    odd+=1\n",
        "print(\"Even : \", even)\n",
        "print(\"odd : \", odd)"
      ],
      "metadata": {
        "colab": {
          "base_uri": "https://localhost:8080/"
        },
        "id": "6zSJVH_v8Wqm",
        "outputId": "b504d66d-e186-4add-ec42-b12c44e82262"
      },
      "execution_count": null,
      "outputs": [
        {
          "output_type": "stream",
          "name": "stdout",
          "text": [
            "Even :  5\n",
            "odd :  2\n"
          ]
        }
      ]
    },
    {
      "cell_type": "code",
      "source": [
        "#2\n",
        "for x in range(6):\n",
        "    if (x == 3 or x == 6):\n",
        "        continue\n",
        "    print(x, end=' ')\n",
        "\n",
        "\n"
      ],
      "metadata": {
        "colab": {
          "base_uri": "https://localhost:8080/"
        },
        "id": "B-cFTo838YFo",
        "outputId": "337040f4-e4e4-4162-ac10-9964f7a95447"
      },
      "execution_count": null,
      "outputs": [
        {
          "output_type": "stream",
          "name": "stdout",
          "text": [
            "0 1 2 4 5 "
          ]
        }
      ]
    },
    {
      "cell_type": "code",
      "source": [
        "#3\n",
        "def fibonacci(n):\n",
        "    if n <= 1:\n",
        "        return n\n",
        "    else:\n",
        "        return(fibonacci(n-1) + fibonacci(n-2))\n",
        "n = int(input(\"Enter number of terms : \"))\n",
        "for i in range(n):\n",
        "    print(fibonacci(i))\n",
        "\n"
      ],
      "metadata": {
        "colab": {
          "base_uri": "https://localhost:8080/"
        },
        "id": "FhfqOUMr8Yno",
        "outputId": "dd7ced93-25d0-4d04-8c5e-e6fa013872f1"
      },
      "execution_count": null,
      "outputs": [
        {
          "output_type": "stream",
          "name": "stdout",
          "text": [
            "Enter number of terms : 10\n",
            "0\n",
            "1\n",
            "1\n",
            "2\n",
            "3\n",
            "5\n",
            "8\n",
            "13\n",
            "21\n",
            "34\n"
          ]
        }
      ]
    },
    {
      "cell_type": "code",
      "source": [
        "#4\n",
        "row_num = int(input(\"Input number of rows: \"))\n",
        "\n",
        "col_num = int(input(\"Input number of columns: \"))\n",
        "\n",
        "multi_list = [[0 for col in range(col_num)] for row in range(row_num)]\n",
        "\n",
        "\n",
        "for row in range(row_num):\n",
        "    for col in range(col_num):\n",
        "\n",
        "        multi_list[row][col] = row * col\n",
        "\n",
        "\n",
        "print(multi_list)"
      ],
      "metadata": {
        "colab": {
          "base_uri": "https://localhost:8080/"
        },
        "id": "1D7AK3B18ZHP",
        "outputId": "28f80046-e840-4f7e-a357-d859ae99e361"
      },
      "execution_count": null,
      "outputs": [
        {
          "output_type": "stream",
          "name": "stdout",
          "text": [
            "Input number of rows: 4\n",
            "Input number of columns: 8\n",
            "[[0, 0, 0, 0, 0, 0, 0, 0], [0, 1, 2, 3, 4, 5, 6, 7], [0, 2, 4, 6, 8, 10, 12, 14], [0, 3, 6, 9, 12, 15, 18, 21]]\n"
          ]
        }
      ]
    },
    {
      "cell_type": "code",
      "source": [
        "#5\n",
        "items = []\n",
        "\n",
        "for i in range(100, 401):\n",
        "\n",
        "    s = str(i)\n",
        "\n",
        "    if (int(s[0]) % 2 == 0) and (int(s[1]) % 2 == 0) and (int(s[2]) % 2 == 0):\n",
        "\n",
        "        items.append(s)\n",
        "\n",
        "\n",
        "print(\",\".join(items))"
      ],
      "metadata": {
        "colab": {
          "base_uri": "https://localhost:8080/"
        },
        "id": "BMRhjGoa8ZkG",
        "outputId": "6f3ae78d-98e2-48c6-ed36-aa475e6a0fbb"
      },
      "execution_count": null,
      "outputs": [
        {
          "output_type": "stream",
          "name": "stdout",
          "text": [
            "200,202,204,206,208,220,222,224,226,228,240,242,244,246,248,260,262,264,266,268,280,282,284,286,288,400\n"
          ]
        }
      ]
    },
    {
      "cell_type": "code",
      "source": [
        "#6\n",
        "result_str = \"\"\n",
        "\n",
        "for row in range(0, 7):\n",
        "\n",
        "    for column in range(0, 7):\n",
        "\n",
        "        if (((column == 1 or column == 5) and row != 0) or ((row == 0 or row == 3) and (column > 1 and column < 5))):\n",
        "            result_str = result_str + \"*\"\n",
        "        else:\n",
        "            result_str = result_str + \" \"\n",
        "\n",
        "    result_str = result_str + \"\\n\"\n",
        "\n",
        "print(result_str)"
      ],
      "metadata": {
        "id": "fv-Azl6X8aBH",
        "colab": {
          "base_uri": "https://localhost:8080/"
        },
        "outputId": "bf72aea4-436a-4ea3-ce84-79dee91370b3"
      },
      "execution_count": null,
      "outputs": [
        {
          "output_type": "stream",
          "name": "stdout",
          "text": [
            "  ***  \n",
            " *   * \n",
            " *   * \n",
            " ***** \n",
            " *   * \n",
            " *   * \n",
            " *   * \n",
            "\n"
          ]
        }
      ]
    },
    {
      "cell_type": "code",
      "source": [
        "#7\n",
        "result_str = \"\"\n",
        "\n",
        "for row in range(0, 7):\n",
        "\n",
        "    for column in range(0, 7):\n",
        "\n",
        "        if (column == 1 or ((row == 0 or row == 3) and column > 0 and column < 5) or ((column == 5 or column == 1) and (row == 1 or row == 2))):\n",
        "            result_str = result_str + \"*\"\n",
        "        else:\n",
        "            result_str = result_str + \" \"\n",
        "    result_str = result_str + \"\\n\"\n",
        "\n",
        "print(result_str)"
      ],
      "metadata": {
        "id": "5tpliLVu8acg"
      },
      "execution_count": null,
      "outputs": []
    },
    {
      "cell_type": "code",
      "source": [
        "#8\n",
        "def is_valid_triangle(a,b,c):\n",
        "    if a+b>=c and b+c>=a and c+a>=b:\n",
        "        return True\n",
        "    else:\n",
        "        return False\n",
        "\n",
        "\n",
        "side_a = float(input('Enter length of side a: '))\n",
        "side_b = float(input('Enter length of side b: '))\n",
        "side_c = float(input('Enter length of side c: '))\n",
        "\n",
        "\n",
        "\n",
        "if is_valid_triangle(side_a, side_b, side_c):\n",
        "    print('Triangle is Valid.')\n",
        "else:\n",
        "    print('Triangle is Invalid.')"
      ],
      "metadata": {
        "colab": {
          "base_uri": "https://localhost:8080/"
        },
        "id": "BL9Xk4UN8a4O",
        "outputId": "3f8b8986-4537-402c-cf41-30835c096b6d"
      },
      "execution_count": null,
      "outputs": [
        {
          "output_type": "stream",
          "name": "stdout",
          "text": [
            "Enter length of side a: 3\n",
            "Enter length of side b: 4\n",
            "Enter length of side c: 5\n",
            "Triangle is Valid.\n"
          ]
        }
      ]
    },
    {
      "cell_type": "code",
      "source": [
        "#9\n",
        "x=int(input(\"Enter the number : \"))\n",
        "for i in range(1, 11):\n",
        "   print(x, 'x', i, '=', x*i)"
      ],
      "metadata": {
        "colab": {
          "base_uri": "https://localhost:8080/"
        },
        "id": "2uaseWVE8biu",
        "outputId": "df02d476-0c7a-442c-d0d6-e67227ff5ea7"
      },
      "execution_count": null,
      "outputs": [
        {
          "output_type": "stream",
          "name": "stdout",
          "text": [
            "Enter the number : 9\n",
            "9 x 1 = 9\n",
            "9 x 2 = 18\n",
            "9 x 3 = 27\n",
            "9 x 4 = 36\n",
            "9 x 5 = 45\n",
            "9 x 6 = 54\n",
            "9 x 7 = 63\n",
            "9 x 8 = 72\n",
            "9 x 9 = 81\n",
            "9 x 10 = 90\n"
          ]
        }
      ]
    },
    {
      "cell_type": "code",
      "source": [
        "#10\n",
        "n = int(input(\"Enter number of rows: \"))\n",
        "\n",
        "for i in range(1,n+1):\n",
        "    for j in range(1, i+1):\n",
        "        print(i, end=\"\")\n",
        "    print()"
      ],
      "metadata": {
        "colab": {
          "base_uri": "https://localhost:8080/"
        },
        "id": "zNPZwyNc8cXO",
        "outputId": "f245d8a0-c238-4f69-a10e-13e0193869a0"
      },
      "execution_count": null,
      "outputs": [
        {
          "output_type": "stream",
          "name": "stdout",
          "text": [
            "Enter number of rows: 9\n",
            "1\n",
            "22\n",
            "333\n",
            "4444\n",
            "55555\n",
            "666666\n",
            "7777777\n",
            "88888888\n",
            "999999999\n"
          ]
        }
      ]
    },
    {
      "cell_type": "markdown",
      "source": [
        "#Functions"
      ],
      "metadata": {
        "id": "a6FmtRCm8gg_"
      }
    },
    {
      "cell_type": "code",
      "source": [
        "#1\n",
        "a=int(input(\"Enter the number : \"))\n",
        "b=int(input(\"Enter the number : \"))\n",
        "c=int(input(\"Enter the number : \"))\n",
        "lst=[]\n",
        "def max_3(lst):\n",
        "\n",
        "  lst.append(a)\n",
        "  lst.append(b)\n",
        "  lst.append(c)\n",
        "  print(max(lst))\n",
        "max_3(lst)\n"
      ],
      "metadata": {
        "colab": {
          "base_uri": "https://localhost:8080/"
        },
        "id": "jYW05G678dU-",
        "outputId": "d096791c-cf78-4631-d175-e674e2353c0a"
      },
      "execution_count": null,
      "outputs": [
        {
          "output_type": "stream",
          "name": "stdout",
          "text": [
            "Enter the number : 3\n",
            "Enter the number : 4\n",
            "Enter the number : 5\n",
            "5\n"
          ]
        }
      ]
    },
    {
      "cell_type": "code",
      "source": [
        "#2\n",
        "lst=[1,2,3,4,5,5,6,7]\n",
        "def sum_1():\n",
        "  sum=0\n",
        "\n",
        "  for i in lst:\n",
        "    sum=sum+i\n",
        "  print(sum)\n",
        "sum_1()"
      ],
      "metadata": {
        "colab": {
          "base_uri": "https://localhost:8080/"
        },
        "id": "vdVLg2L68j2H",
        "outputId": "fbf5d2b2-a698-4f4b-c73a-5c44bfa614ba"
      },
      "execution_count": null,
      "outputs": [
        {
          "output_type": "stream",
          "name": "stdout",
          "text": [
            "33\n"
          ]
        }
      ]
    },
    {
      "cell_type": "code",
      "source": [
        "#3\n",
        "lst=[1,2,3,4,5]\n",
        "def mult():\n",
        "  sum=1\n",
        "  for i in lst:\n",
        "    sum=sum*i\n",
        "  print(sum)\n",
        "mult()"
      ],
      "metadata": {
        "colab": {
          "base_uri": "https://localhost:8080/"
        },
        "id": "MvOkh2jR8kZH",
        "outputId": "76cfcf94-75a6-4e26-92a4-95d90d764ec2"
      },
      "execution_count": null,
      "outputs": [
        {
          "output_type": "stream",
          "name": "stdout",
          "text": [
            "120\n"
          ]
        }
      ]
    },
    {
      "cell_type": "code",
      "source": [
        "#4\n",
        "def string_test(s):\n",
        "    d = {\"UPPER_CASE\": 0, \"LOWER_CASE\": 0}\n",
        "\n",
        "    for c in s:\n",
        "        if c.isupper():\n",
        "            d[\"UPPER_CASE\"] += 1\n",
        "        elif c.islower():\n",
        "            d[\"LOWER_CASE\"] += 1\n",
        "        else:\n",
        "            pass\n",
        "\n",
        "    print(\"Original String: \", s)\n",
        "\n",
        "    print(\"No. of Upper case characters: \", d[\"UPPER_CASE\"])\n",
        "\n",
        "    print(\"No. of Lower case Characters: \", d[\"LOWER_CASE\"])\n",
        "\n",
        "string_test('The quick Brown Fox')"
      ],
      "metadata": {
        "colab": {
          "base_uri": "https://localhost:8080/"
        },
        "id": "qseG53rH8k8v",
        "outputId": "a734f84e-1856-45be-f13c-7008ab320d99"
      },
      "execution_count": null,
      "outputs": [
        {
          "output_type": "stream",
          "name": "stdout",
          "text": [
            "Original String:  The quick Brown Fox\n",
            "No. of Upper case characters:  3\n",
            "No. of Lower case Characters:  13\n"
          ]
        }
      ]
    },
    {
      "cell_type": "code",
      "source": [
        "#5\n",
        "lst=[1,2,3,4,5,4,54,5,4,3,213]\n",
        "def uni(lst):\n",
        "  lst1=[]\n",
        "  for i in lst:\n",
        "    if i not in lst1:\n",
        "      lst1.append(i)\n",
        "  print(lst1)\n",
        "uni(lst)\n"
      ],
      "metadata": {
        "colab": {
          "base_uri": "https://localhost:8080/"
        },
        "id": "On3ux3KC8lY3",
        "outputId": "93f26ee0-c638-4b4d-f175-877f32cf2231"
      },
      "execution_count": null,
      "outputs": [
        {
          "output_type": "stream",
          "name": "stdout",
          "text": [
            "[1, 2, 3, 4, 5, 54, 213]\n"
          ]
        }
      ]
    },
    {
      "cell_type": "code",
      "source": [
        "#6\n",
        "lst=[1,2,3,4,5,4,54,5,4,3,213]\n",
        "def even_lst(lst):\n",
        "  for i in lst:\n",
        "    if i%2==0:\n",
        "      print(i)\n",
        "even_lst(lst)"
      ],
      "metadata": {
        "colab": {
          "base_uri": "https://localhost:8080/"
        },
        "id": "d6c1Vank8l5v",
        "outputId": "fb0cc9b1-782e-46cb-afa1-113293aa651c"
      },
      "execution_count": null,
      "outputs": [
        {
          "output_type": "stream",
          "name": "stdout",
          "text": [
            "2\n",
            "4\n",
            "4\n",
            "54\n",
            "4\n"
          ]
        }
      ]
    },
    {
      "cell_type": "code",
      "source": [
        "#7\n",
        "name=\"Tenz\"\n",
        "\n",
        "\n",
        "def palindrome(name):\n",
        "\n",
        "  name1=name[::-1]\n",
        "  if name1==name:\n",
        "    print(\"It is palindrome\")\n",
        "  else:\n",
        "    print(\"Palindrome doesnt occur\")\n",
        "palindrome(name)"
      ],
      "metadata": {
        "colab": {
          "base_uri": "https://localhost:8080/"
        },
        "id": "Itf8csCg8m2n",
        "outputId": "3ed7423b-dba2-4f10-a4f6-ca2dee4b54c7"
      },
      "execution_count": null,
      "outputs": [
        {
          "output_type": "stream",
          "name": "stdout",
          "text": [
            "Palindrome doesnt occur\n"
          ]
        }
      ]
    },
    {
      "cell_type": "code",
      "source": [
        "#8\n",
        "def test(a):\n",
        "    def add(b):\n",
        "        nonlocal a\n",
        "        a += 1\n",
        "        return a + b\n",
        "    return add\n",
        "func = test(4)\n",
        "print(func(4))"
      ],
      "metadata": {
        "id": "1m-TmW4Q8nhv",
        "colab": {
          "base_uri": "https://localhost:8080/"
        },
        "outputId": "b5b1dcb2-6f0f-4468-f752-f068167cad5b"
      },
      "execution_count": null,
      "outputs": [
        {
          "output_type": "stream",
          "name": "stdout",
          "text": [
            "9\n"
          ]
        }
      ]
    },
    {
      "cell_type": "code",
      "source": [
        "#9\n"
      ],
      "metadata": {
        "id": "qHJJa2c58n-D"
      },
      "execution_count": null,
      "outputs": []
    }
  ]
}